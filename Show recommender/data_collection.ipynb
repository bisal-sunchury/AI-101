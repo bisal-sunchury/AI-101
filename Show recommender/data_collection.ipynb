{
 "cells": [
  {
   "cell_type": "code",
   "execution_count": 1,
   "id": "1ed03383-6ecc-4b93-b3f1-3a548cd1b0d0",
   "metadata": {},
   "outputs": [
    {
     "name": "stdout",
     "output_type": "stream",
     "text": [
      "Show recommender - Data Collection\n"
     ]
    }
   ],
   "source": [
    "print(\"Show recommender - Data Collection\")"
   ]
  },
  {
   "cell_type": "code",
   "execution_count": 2,
   "id": "edd82fc0-1863-4c8f-adfc-77dbf393dde6",
   "metadata": {},
   "outputs": [
    {
     "name": "stdout",
     "output_type": "stream",
     "text": [
      "Requirement already satisfied: requests in c:\\users\\bisar\\anaconda3\\lib\\site-packages (2.32.3)\n",
      "Requirement already satisfied: charset-normalizer<4,>=2 in c:\\users\\bisar\\anaconda3\\lib\\site-packages (from requests) (3.3.2)\n",
      "Requirement already satisfied: idna<4,>=2.5 in c:\\users\\bisar\\anaconda3\\lib\\site-packages (from requests) (3.7)\n",
      "Requirement already satisfied: urllib3<3,>=1.21.1 in c:\\users\\bisar\\anaconda3\\lib\\site-packages (from requests) (2.3.0)\n",
      "Requirement already satisfied: certifi>=2017.4.17 in c:\\users\\bisar\\anaconda3\\lib\\site-packages (from requests) (2025.8.3)\n",
      "Note: you may need to restart the kernel to use updated packages.\n"
     ]
    }
   ],
   "source": [
    "pip install requests"
   ]
  },
  {
   "cell_type": "code",
   "execution_count": 3,
   "id": "cede9fc8-4c40-46b7-b9e6-a9693ef21eac",
   "metadata": {},
   "outputs": [
    {
     "name": "stdout",
     "output_type": "stream",
     "text": [
      "Naruto\n",
      "[{'mal_id': 1, 'type': 'anime', 'name': 'Action', 'url': 'https://myanimelist.net/anime/genre/1/Action'}, {'mal_id': 2, 'type': 'anime', 'name': 'Adventure', 'url': 'https://myanimelist.net/anime/genre/2/Adventure'}, {'mal_id': 10, 'type': 'anime', 'name': 'Fantasy', 'url': 'https://myanimelist.net/anime/genre/10/Fantasy'}]\n",
      "Twelve years ago, a colossal demon fox terrorized the world. During the monster's attack on the Hidden Leaf Village, the Hokage—the village's leader and most powerful ninja—sacrifices himself to seal the beast inside a newborn, relieving civilization from destruction while dooming the baby to a lonely life.\n",
      "\n",
      "Now, after years of being shunned and bullied, Naruto Uzumaki pesters the village with elaborate pranks and vandalism. Despite these antics, he works hard to achieve his dream: to become the Hokage and earn the acknowledgement of those who have mistreated him for his entire life. Naruto joins Team 7, a ninja squad made up of two of his peers—prodigy Sasuke Uchiha and clever Sakura Haruno.\n",
      "\n",
      "Under the aloof Kakashi Hatake's leadership, Team 7 takes on a series of difficult missions, forcing its members to grow in strength and comradery despite their many differences. Naruto strives to stand out in his rivalry with Sasuke and earn the romantic affection of Sakura. But as the trio brush against danger and death, their tragic pasts threaten to tear them apart.\n",
      "\n",
      "[Written by MAL Rewrite]\n"
     ]
    }
   ],
   "source": [
    "import requests\n",
    "\n",
    "url = \"https://api.jikan.moe/v4/anime?q=naruto&limit=3\"\n",
    "response = requests.get(url)\n",
    "data = response.json()\n",
    "\n",
    "print(data[\"data\"][0][\"title\"])\n",
    "print(data[\"data\"][0][\"genres\"])\n",
    "print(data[\"data\"][0][\"synopsis\"])"
   ]
  },
  {
   "cell_type": "code",
   "execution_count": 4,
   "id": "8cdedd53-33cd-4795-84f9-88b787886100",
   "metadata": {},
   "outputs": [
    {
     "name": "stdout",
     "output_type": "stream",
     "text": [
      "Saved anime_sample.csv\n"
     ]
    }
   ],
   "source": [
    "import pandas as pd\n",
    "\n",
    "animes = []\n",
    "for query in [\"naruto\", \"one piece\", \"attack on titan\", \"death note\"]:\n",
    "    url = f\"https://api.jikan.moe/v4/anime?q={query}&limit=1\"\n",
    "    response = requests.get(url)\n",
    "    data = response.json()\n",
    "    anime = data[\"data\"][0]\n",
    "    animes.append({\n",
    "        \"title\" : anime[\"title\"],\n",
    "        \"genres\" : [g[\"name\"] for g in anime[\"genres\"]],\n",
    "        \"synopsis\" : anime[\"synopsis\"]\n",
    "    })\n",
    "\n",
    "df = pd.DataFrame(animes)\n",
    "df.to_csv(\"anime_sample.csv\", index = False)\n",
    "print(\"Saved anime_sample.csv\")\n",
    "    "
   ]
  },
  {
   "cell_type": "code",
   "execution_count": 5,
   "id": "c39dd792-28d3-4d79-a161-d1b3500142a1",
   "metadata": {},
   "outputs": [
    {
     "data": {
      "text/html": [
       "<div>\n",
       "<style scoped>\n",
       "    .dataframe tbody tr th:only-of-type {\n",
       "        vertical-align: middle;\n",
       "    }\n",
       "\n",
       "    .dataframe tbody tr th {\n",
       "        vertical-align: top;\n",
       "    }\n",
       "\n",
       "    .dataframe thead th {\n",
       "        text-align: right;\n",
       "    }\n",
       "</style>\n",
       "<table border=\"1\" class=\"dataframe\">\n",
       "  <thead>\n",
       "    <tr style=\"text-align: right;\">\n",
       "      <th></th>\n",
       "      <th>title</th>\n",
       "      <th>genres</th>\n",
       "      <th>synopsis</th>\n",
       "    </tr>\n",
       "  </thead>\n",
       "  <tbody>\n",
       "    <tr>\n",
       "      <th>0</th>\n",
       "      <td>Naruto</td>\n",
       "      <td>[Action, Adventure, Fantasy]</td>\n",
       "      <td>Twelve years ago, a colossal demon fox terrori...</td>\n",
       "    </tr>\n",
       "    <tr>\n",
       "      <th>1</th>\n",
       "      <td>One Piece Movie 01</td>\n",
       "      <td>[Action, Adventure, Fantasy]</td>\n",
       "      <td>Many years ago, Woonan, a legendary pirate, pl...</td>\n",
       "    </tr>\n",
       "    <tr>\n",
       "      <th>2</th>\n",
       "      <td>Shingeki no Kyojin</td>\n",
       "      <td>[Action, Award Winning, Drama, Suspense]</td>\n",
       "      <td>Centuries ago, mankind was slaughtered to near...</td>\n",
       "    </tr>\n",
       "    <tr>\n",
       "      <th>3</th>\n",
       "      <td>Death Note</td>\n",
       "      <td>[Supernatural, Suspense]</td>\n",
       "      <td>Brutal murders, petty thefts, and senseless vi...</td>\n",
       "    </tr>\n",
       "  </tbody>\n",
       "</table>\n",
       "</div>"
      ],
      "text/plain": [
       "                title                                    genres  \\\n",
       "0              Naruto              [Action, Adventure, Fantasy]   \n",
       "1  One Piece Movie 01              [Action, Adventure, Fantasy]   \n",
       "2  Shingeki no Kyojin  [Action, Award Winning, Drama, Suspense]   \n",
       "3          Death Note                  [Supernatural, Suspense]   \n",
       "\n",
       "                                            synopsis  \n",
       "0  Twelve years ago, a colossal demon fox terrori...  \n",
       "1  Many years ago, Woonan, a legendary pirate, pl...  \n",
       "2  Centuries ago, mankind was slaughtered to near...  \n",
       "3  Brutal murders, petty thefts, and senseless vi...  "
      ]
     },
     "execution_count": 5,
     "metadata": {},
     "output_type": "execute_result"
    }
   ],
   "source": [
    "df.head()"
   ]
  },
  {
   "cell_type": "code",
   "execution_count": 6,
   "id": "1ced552f-36eb-4089-9375-7ebe2902f19c",
   "metadata": {},
   "outputs": [],
   "source": [
    "df[\"combined_features\"] = df[\"genres\"].astype(str) + \" \" + df[\"synopsis\"]"
   ]
  },
  {
   "cell_type": "code",
   "execution_count": 7,
   "id": "28d4bf08-0663-4a4b-9507-84458e1eb334",
   "metadata": {},
   "outputs": [
    {
     "data": {
      "text/html": [
       "<div>\n",
       "<style scoped>\n",
       "    .dataframe tbody tr th:only-of-type {\n",
       "        vertical-align: middle;\n",
       "    }\n",
       "\n",
       "    .dataframe tbody tr th {\n",
       "        vertical-align: top;\n",
       "    }\n",
       "\n",
       "    .dataframe thead th {\n",
       "        text-align: right;\n",
       "    }\n",
       "</style>\n",
       "<table border=\"1\" class=\"dataframe\">\n",
       "  <thead>\n",
       "    <tr style=\"text-align: right;\">\n",
       "      <th></th>\n",
       "      <th>title</th>\n",
       "      <th>genres</th>\n",
       "      <th>synopsis</th>\n",
       "      <th>combined_features</th>\n",
       "    </tr>\n",
       "  </thead>\n",
       "  <tbody>\n",
       "    <tr>\n",
       "      <th>0</th>\n",
       "      <td>Naruto</td>\n",
       "      <td>[Action, Adventure, Fantasy]</td>\n",
       "      <td>Twelve years ago, a colossal demon fox terrori...</td>\n",
       "      <td>['Action', 'Adventure', 'Fantasy'] Twelve year...</td>\n",
       "    </tr>\n",
       "    <tr>\n",
       "      <th>1</th>\n",
       "      <td>One Piece Movie 01</td>\n",
       "      <td>[Action, Adventure, Fantasy]</td>\n",
       "      <td>Many years ago, Woonan, a legendary pirate, pl...</td>\n",
       "      <td>['Action', 'Adventure', 'Fantasy'] Many years ...</td>\n",
       "    </tr>\n",
       "    <tr>\n",
       "      <th>2</th>\n",
       "      <td>Shingeki no Kyojin</td>\n",
       "      <td>[Action, Award Winning, Drama, Suspense]</td>\n",
       "      <td>Centuries ago, mankind was slaughtered to near...</td>\n",
       "      <td>['Action', 'Award Winning', 'Drama', 'Suspense...</td>\n",
       "    </tr>\n",
       "    <tr>\n",
       "      <th>3</th>\n",
       "      <td>Death Note</td>\n",
       "      <td>[Supernatural, Suspense]</td>\n",
       "      <td>Brutal murders, petty thefts, and senseless vi...</td>\n",
       "      <td>['Supernatural', 'Suspense'] Brutal murders, p...</td>\n",
       "    </tr>\n",
       "  </tbody>\n",
       "</table>\n",
       "</div>"
      ],
      "text/plain": [
       "                title                                    genres  \\\n",
       "0              Naruto              [Action, Adventure, Fantasy]   \n",
       "1  One Piece Movie 01              [Action, Adventure, Fantasy]   \n",
       "2  Shingeki no Kyojin  [Action, Award Winning, Drama, Suspense]   \n",
       "3          Death Note                  [Supernatural, Suspense]   \n",
       "\n",
       "                                            synopsis  \\\n",
       "0  Twelve years ago, a colossal demon fox terrori...   \n",
       "1  Many years ago, Woonan, a legendary pirate, pl...   \n",
       "2  Centuries ago, mankind was slaughtered to near...   \n",
       "3  Brutal murders, petty thefts, and senseless vi...   \n",
       "\n",
       "                                   combined_features  \n",
       "0  ['Action', 'Adventure', 'Fantasy'] Twelve year...  \n",
       "1  ['Action', 'Adventure', 'Fantasy'] Many years ...  \n",
       "2  ['Action', 'Award Winning', 'Drama', 'Suspense...  \n",
       "3  ['Supernatural', 'Suspense'] Brutal murders, p...  "
      ]
     },
     "execution_count": 7,
     "metadata": {},
     "output_type": "execute_result"
    }
   ],
   "source": [
    "df.head()"
   ]
  },
  {
   "cell_type": "code",
   "execution_count": 8,
   "id": "ed849c19-9fe9-4ddb-8739-31a91d721643",
   "metadata": {},
   "outputs": [],
   "source": [
    "from sklearn.feature_extraction.text import TfidfVectorizer\n",
    "\n",
    "vectorizer = TfidfVectorizer(stop_words = \"english\")\n",
    "tfidf_matrix = vectorizer.fit_transform(df[\"combined_features\"])"
   ]
  },
  {
   "cell_type": "code",
   "execution_count": 9,
   "id": "cb01517b-17e5-4fd3-bad8-c4e42d5b0fa7",
   "metadata": {},
   "outputs": [
    {
     "data": {
      "text/plain": [
       "<Compressed Sparse Row sparse matrix of dtype 'float64'\n",
       "\twith 329 stored elements and shape (4, 299)>"
      ]
     },
     "execution_count": 9,
     "metadata": {},
     "output_type": "execute_result"
    }
   ],
   "source": [
    "tfidf_matrix"
   ]
  },
  {
   "cell_type": "code",
   "execution_count": 13,
   "id": "9840beb8-5b4d-468d-b4b3-c3b78a0cce4a",
   "metadata": {},
   "outputs": [],
   "source": [
    "from sklearn.metrics.pairwise import cosine_similarity\n",
    "\n",
    "cosine_sim_matrix = cosine_similarity(tfidf_matrix, tfidf_matrix)"
   ]
  },
  {
   "cell_type": "code",
   "execution_count": 14,
   "id": "b973e4b2-5890-4a38-a1e9-b7ac49aa2073",
   "metadata": {},
   "outputs": [
    {
     "data": {
      "text/plain": [
       "array([[1.        , 0.04544838, 0.04062236, 0.03343191],\n",
       "       [0.04544838, 1.        , 0.02995926, 0.03210429],\n",
       "       [0.04062236, 0.02995926, 1.        , 0.04420731],\n",
       "       [0.03343191, 0.03210429, 0.04420731, 1.        ]])"
      ]
     },
     "execution_count": 14,
     "metadata": {},
     "output_type": "execute_result"
    }
   ],
   "source": [
    "cosine_sim_matrix"
   ]
  },
  {
   "cell_type": "code",
   "execution_count": 29,
   "id": "61c9b6aa-aff3-4238-9b62-d83571552197",
   "metadata": {},
   "outputs": [],
   "source": [
    "def recommend(title):\n",
    "    idx = df[df[\"title\"].str.lower() == title.lower()].index[0]\n",
    "    sim_scores = list(enumerate(cosine_sim_matrix[idx]))\n",
    "    sim_scores = sorted(sim_scores, key=lambda x: x[1], reverse=True)\n",
    "    sim_scores = sim_scores[1:4]  # top 3 recommendations\n",
    "    anime_indices = [i[0] for i in sim_scores]\n",
    "    return df[\"title\"].iloc[anime_indices]\n"
   ]
  },
  {
   "cell_type": "code",
   "execution_count": 34,
   "id": "791a8234-6ace-4d8b-930b-aeae6ce13b89",
   "metadata": {},
   "outputs": [
    {
     "name": "stdin",
     "output_type": "stream",
     "text": [
      "Give me the anime name and I will recommend top 3 similar ones to it: Naruto\n"
     ]
    },
    {
     "data": {
      "text/plain": [
       "1    One Piece Movie 01\n",
       "2    Shingeki no Kyojin\n",
       "3            Death Note\n",
       "Name: title, dtype: object"
      ]
     },
     "execution_count": 34,
     "metadata": {},
     "output_type": "execute_result"
    }
   ],
   "source": [
    "anime_name = input(\"Give me the anime name and I will recommend top 3 similar ones to it:\")\n",
    "recommend(anime_name)"
   ]
  },
  {
   "cell_type": "code",
   "execution_count": null,
   "id": "2fbf2e11-d112-447d-a9ec-32aa15ece035",
   "metadata": {},
   "outputs": [],
   "source": []
  }
 ],
 "metadata": {
  "kernelspec": {
   "display_name": "Python [conda env:base] *",
   "language": "python",
   "name": "conda-base-py"
  },
  "language_info": {
   "codemirror_mode": {
    "name": "ipython",
    "version": 3
   },
   "file_extension": ".py",
   "mimetype": "text/x-python",
   "name": "python",
   "nbconvert_exporter": "python",
   "pygments_lexer": "ipython3",
   "version": "3.13.5"
  }
 },
 "nbformat": 4,
 "nbformat_minor": 5
}
