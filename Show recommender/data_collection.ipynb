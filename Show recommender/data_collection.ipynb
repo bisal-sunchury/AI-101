{
 "cells": [
  {
   "cell_type": "code",
   "execution_count": 1,
   "id": "1ed03383-6ecc-4b93-b3f1-3a548cd1b0d0",
   "metadata": {},
   "outputs": [
    {
     "name": "stdout",
     "output_type": "stream",
     "text": [
      "Show recommender - Data Collection\n"
     ]
    }
   ],
   "source": [
    "print(\"Show recommender - Data Collection\")"
   ]
  },
  {
   "cell_type": "code",
   "execution_count": 2,
   "id": "edd82fc0-1863-4c8f-adfc-77dbf393dde6",
   "metadata": {},
   "outputs": [
    {
     "name": "stdout",
     "output_type": "stream",
     "text": [
      "Requirement already satisfied: requests in c:\\users\\bisar\\anaconda3\\lib\\site-packages (2.32.3)Note: you may need to restart the kernel to use updated packages.\n",
      "\n",
      "Requirement already satisfied: charset-normalizer<4,>=2 in c:\\users\\bisar\\anaconda3\\lib\\site-packages (from requests) (3.3.2)\n",
      "Requirement already satisfied: idna<4,>=2.5 in c:\\users\\bisar\\anaconda3\\lib\\site-packages (from requests) (3.7)\n",
      "Requirement already satisfied: urllib3<3,>=1.21.1 in c:\\users\\bisar\\anaconda3\\lib\\site-packages (from requests) (2.3.0)\n",
      "Requirement already satisfied: certifi>=2017.4.17 in c:\\users\\bisar\\anaconda3\\lib\\site-packages (from requests) (2025.8.3)\n"
     ]
    }
   ],
   "source": [
    "pip install requests"
   ]
  },
  {
   "cell_type": "code",
   "execution_count": 6,
   "id": "cede9fc8-4c40-46b7-b9e6-a9693ef21eac",
   "metadata": {},
   "outputs": [
    {
     "name": "stdout",
     "output_type": "stream",
     "text": [
      "Naruto\n",
      "[{'mal_id': 1, 'type': 'anime', 'name': 'Action', 'url': 'https://myanimelist.net/anime/genre/1/Action'}, {'mal_id': 2, 'type': 'anime', 'name': 'Adventure', 'url': 'https://myanimelist.net/anime/genre/2/Adventure'}, {'mal_id': 10, 'type': 'anime', 'name': 'Fantasy', 'url': 'https://myanimelist.net/anime/genre/10/Fantasy'}]\n",
      "Twelve years ago, a colossal demon fox terrorized the world. During the monster's attack on the Hidden Leaf Village, the Hokage—the village's leader and most powerful ninja—sacrifices himself to seal the beast inside a newborn, relieving civilization from destruction while dooming the baby to a lonely life.\n",
      "\n",
      "Now, after years of being shunned and bullied, Naruto Uzumaki pesters the village with elaborate pranks and vandalism. Despite these antics, he works hard to achieve his dream: to become the Hokage and earn the acknowledgement of those who have mistreated him for his entire life. Naruto joins Team 7, a ninja squad made up of two of his peers—prodigy Sasuke Uchiha and clever Sakura Haruno.\n",
      "\n",
      "Under the aloof Kakashi Hatake's leadership, Team 7 takes on a series of difficult missions, forcing its members to grow in strength and comradery despite their many differences. Naruto strives to stand out in his rivalry with Sasuke and earn the romantic affection of Sakura. But as the trio brush against danger and death, their tragic pasts threaten to tear them apart.\n",
      "\n",
      "[Written by MAL Rewrite]\n"
     ]
    }
   ],
   "source": [
    "import requests\n",
    "\n",
    "url = \"https://api.jikan.moe/v4/anime?q=naruto&limit=3\"\n",
    "response = requests.get(url)\n",
    "data = response.json()\n",
    "\n",
    "print(data[\"data\"][0][\"title\"])\n",
    "print(data[\"data\"][0][\"genres\"])\n",
    "print(data[\"data\"][0][\"synopsis\"])"
   ]
  },
  {
   "cell_type": "code",
   "execution_count": 11,
   "id": "8cdedd53-33cd-4795-84f9-88b787886100",
   "metadata": {},
   "outputs": [
    {
     "name": "stdout",
     "output_type": "stream",
     "text": [
      "Saved anime_sample.csv\n"
     ]
    }
   ],
   "source": [
    "import pandas as pd\n",
    "\n",
    "animes = []\n",
    "for query in [\"naruto\", \"one piece\", \"attack on titan\", \"death note\"]:\n",
    "    url = f\"https://api.jikan.moe/v4/anime?q={query}&limit=1\"\n",
    "    response = requests.get(url)\n",
    "    data = response.json()\n",
    "    anime = data[\"data\"][0]\n",
    "    animes.append({\n",
    "        \"title\" : anime[\"title\"],\n",
    "        \"genres\" : [g[\"name\"] for g in anime[\"genres\"]],\n",
    "        \"synopsis\" : anime[\"synopsis\"]\n",
    "    })\n",
    "\n",
    "df = pd.DataFrame(animes)\n",
    "df.to_csv(\"anime_sample.csv\", index = False)\n",
    "print(\"Saved anime_sample.csv\")\n",
    "    "
   ]
  },
  {
   "cell_type": "code",
   "execution_count": null,
   "id": "c39dd792-28d3-4d79-a161-d1b3500142a1",
   "metadata": {},
   "outputs": [],
   "source": []
  }
 ],
 "metadata": {
  "kernelspec": {
   "display_name": "Python [conda env:base] *",
   "language": "python",
   "name": "conda-base-py"
  },
  "language_info": {
   "codemirror_mode": {
    "name": "ipython",
    "version": 3
   },
   "file_extension": ".py",
   "mimetype": "text/x-python",
   "name": "python",
   "nbconvert_exporter": "python",
   "pygments_lexer": "ipython3",
   "version": "3.13.5"
  }
 },
 "nbformat": 4,
 "nbformat_minor": 5
}
